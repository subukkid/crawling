{
 "cells": [
  {
   "cell_type": "code",
   "execution_count": 22,
   "metadata": {},
   "outputs": [],
   "source": [
    "from selenium import webdriver\n",
    "from selenium.webdriver.chrome.service import Service\n",
    "from selenium.webdriver.common.by import By\n",
    "from selenium.webdriver.support.select import Select\n",
    "from selenium.webdriver.support.ui import WebDriverWait   #웹을 기다려주는 기능\n",
    "from selenium.webdriver.support import expected_conditions as ec\n",
    "from webdriver_manager.chrome import ChromeDriverManager\n",
    "import time"
   ]
  },
  {
   "cell_type": "code",
   "execution_count": 23,
   "metadata": {},
   "outputs": [],
   "source": [
    "URL = \"https://www.python.org\""
   ]
  },
  {
   "cell_type": "code",
   "execution_count": 24,
   "metadata": {},
   "outputs": [
    {
     "name": "stderr",
     "output_type": "stream",
     "text": [
      "\n",
      "\n",
      "====== WebDriver manager ======\n",
      "Current google-chrome version is 101.0.4951\n",
      "Get LATEST chromedriver version for 101.0.4951 google-chrome\n",
      "Driver [C:\\Users\\SKILLSUPPORT\\.wdm\\drivers\\chromedriver\\win32\\101.0.4951.41\\chromedriver.exe] found in cache\n"
     ]
    }
   ],
   "source": [
    "chrome_options = webdriver.ChromeOptions()\n",
    "my_crawling_browser = webdriver.Chrome(service=Service(ChromeDriverManager().install()), options=chrome_options)\n",
    "my_crawling_browser.get(url=URL)"
   ]
  },
  {
   "cell_type": "code",
   "execution_count": 25,
   "metadata": {},
   "outputs": [],
   "source": [
    "my_crawling_browser.execute_script(\"window.open()\")"
   ]
  },
  {
   "cell_type": "code",
   "execution_count": 26,
   "metadata": {},
   "outputs": [
    {
     "name": "stdout",
     "output_type": "stream",
     "text": [
      "['CDwindow-363D158B6C6C7D1BC9387CF532745B1B', 'CDwindow-FA4973B8556F96BBF1DC924FC4E197F2']\n"
     ]
    }
   ],
   "source": [
    "print(my_crawling_browser.window_handles)"
   ]
  },
  {
   "cell_type": "code",
   "execution_count": 27,
   "metadata": {},
   "outputs": [],
   "source": [
    "my_crawling_browser.execute_script(\"window.open()\")"
   ]
  },
  {
   "cell_type": "code",
   "execution_count": 28,
   "metadata": {},
   "outputs": [
    {
     "name": "stdout",
     "output_type": "stream",
     "text": [
      "['CDwindow-363D158B6C6C7D1BC9387CF532745B1B', 'CDwindow-FA4973B8556F96BBF1DC924FC4E197F2', 'CDwindow-73618641590E89BAA76C69F9043905DC']\n"
     ]
    }
   ],
   "source": [
    "print(my_crawling_browser.window_handles)"
   ]
  },
  {
   "cell_type": "code",
   "execution_count": 29,
   "metadata": {},
   "outputs": [
    {
     "data": {
      "text/plain": [
       "True"
      ]
     },
     "execution_count": 29,
     "metadata": {},
     "output_type": "execute_result"
    }
   ],
   "source": [
    "my_crawling_browser.switch_to.window(my_crawling_browser.window_handles[1])\n",
    "my_crawling_browser.get(\"http://www.naver.com\")\n",
    "my_crawling_browser.title\n",
    "my_crawling_browser.get_screenshot_as_file(\"check_naver.png\")"
   ]
  },
  {
   "cell_type": "code",
   "execution_count": 30,
   "metadata": {},
   "outputs": [],
   "source": [
    "my_crawling_browser.switch_to.window(my_crawling_browser.window_handles[2])\n",
    "my_crawling_browser.get(\"http://www.youtube.com\")"
   ]
  },
  {
   "cell_type": "code",
   "execution_count": 31,
   "metadata": {},
   "outputs": [
    {
     "data": {
      "text/plain": [
       "True"
      ]
     },
     "execution_count": 31,
     "metadata": {},
     "output_type": "execute_result"
    }
   ],
   "source": [
    "my_crawling_browser.get_screenshot_as_file(\"check_youtube.png\")"
   ]
  },
  {
   "cell_type": "code",
   "execution_count": 32,
   "metadata": {},
   "outputs": [],
   "source": [
    "my_crawling_browser.quit()"
   ]
  }
 ],
 "metadata": {
  "interpreter": {
   "hash": "a7e19d3a7c8beef6405aeac15629fad99ac37bc7bfb83558b2748c74194f869e"
  },
  "kernelspec": {
   "display_name": "Python 3.9.12 ('venv_crawling': venv)",
   "language": "python",
   "name": "python3"
  },
  "language_info": {
   "codemirror_mode": {
    "name": "ipython",
    "version": 3
   },
   "file_extension": ".py",
   "mimetype": "text/x-python",
   "name": "python",
   "nbconvert_exporter": "python",
   "pygments_lexer": "ipython3",
   "version": "3.9.12"
  },
  "orig_nbformat": 4
 },
 "nbformat": 4,
 "nbformat_minor": 2
}
