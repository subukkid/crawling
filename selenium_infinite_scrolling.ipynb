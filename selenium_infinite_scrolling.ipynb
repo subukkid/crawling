{
 "cells": [
  {
   "cell_type": "code",
   "execution_count": 1,
   "metadata": {},
   "outputs": [],
   "source": [
    "from selenium import webdriver\n",
    "from selenium.webdriver.chrome.service import Service\n",
    "from selenium.webdriver.common.by import By\n",
    "from selenium.webdriver.support.select import Select\n",
    "from selenium.webdriver.support.ui import WebDriverWait   #웹을 기다려주는 기능\n",
    "from selenium.webdriver.support import expected_conditions as ec\n",
    "from webdriver_manager.chrome import ChromeDriverManager\n",
    "import time"
   ]
  },
  {
   "cell_type": "code",
   "execution_count": 2,
   "metadata": {},
   "outputs": [],
   "source": [
    "URL = \"https://quotes.toscrape.com/scroll\""
   ]
  },
  {
   "cell_type": "code",
   "execution_count": 3,
   "metadata": {},
   "outputs": [
    {
     "name": "stderr",
     "output_type": "stream",
     "text": [
      "\n",
      "\n",
      "====== WebDriver manager ======\n",
      "Current google-chrome version is 101.0.4951\n",
      "Get LATEST chromedriver version for 101.0.4951 google-chrome\n",
      "Driver [C:\\Users\\SKILLSUPPORT\\.wdm\\drivers\\chromedriver\\win32\\101.0.4951.41\\chromedriver.exe] found in cache\n"
     ]
    }
   ],
   "source": [
    "chrome_options = webdriver.ChromeOptions()\n",
    "my_crawling_browser = webdriver.Chrome(service=Service(ChromeDriverManager().install()), options=chrome_options)\n",
    "my_crawling_browser.get(url=URL)"
   ]
  },
  {
   "cell_type": "code",
   "execution_count": 4,
   "metadata": {},
   "outputs": [],
   "source": [
    "last_height = my_crawling_browser.execute_script(\"return document.body.scrollHeight\")"
   ]
  },
  {
   "cell_type": "code",
   "execution_count": 5,
   "metadata": {},
   "outputs": [
    {
     "name": "stdout",
     "output_type": "stream",
     "text": [
      "1669\n"
     ]
    }
   ],
   "source": [
    "print(last_height)"
   ]
  },
  {
   "cell_type": "code",
   "execution_count": 7,
   "metadata": {},
   "outputs": [
    {
     "name": "stdout",
     "output_type": "stream",
     "text": [
      "new_height: 3721 | last_height: 1669\n",
      "new_height: 5310 | last_height: 3721\n",
      "new_height: 6771 | last_height: 5310\n",
      "new_height: 8258 | last_height: 6771\n",
      "new_height: 9771 | last_height: 8258\n",
      "new_height: 11514 | last_height: 9771\n",
      "new_height: 13052 | last_height: 11514\n",
      "new_height: 14745 | last_height: 13052\n",
      "new_height: 16231 | last_height: 14745\n",
      "new_height: 16231 | last_height: 16231\n"
     ]
    }
   ],
   "source": [
    "#페이지 끝까지 가면 루프를 끝낸다.\n",
    "while True:\n",
    "    my_crawling_browser.execute_script(\"window.scrollTo(0,document.body.scrollHeight)\")\n",
    "    time.sleep(1)\n",
    "    new_height = my_crawling_browser.execute_script(\"return document.body.scrollHeight\")\n",
    "    print(f\"new_height: {new_height} | last_height: {last_height}\")\n",
    "\n",
    "    if last_height == new_height:\n",
    "        break\n",
    "    last_height = new_height\n",
    "    "
   ]
  },
  {
   "cell_type": "code",
   "execution_count": null,
   "metadata": {},
   "outputs": [
    {
     "data": {
      "text/plain": [
       "<selenium.webdriver.remote.webelement.WebElement (session=\"abe28d103095f41d402289eaaa89f0fa\", element=\"7c6c80bb-6714-46bc-9b33-871986575321\")>"
      ]
     },
     "execution_count": 28,
     "metadata": {},
     "output_type": "execute_result"
    }
   ],
   "source": [
    "time.sleep(3)"
   ]
  },
  {
   "cell_type": "code",
   "execution_count": null,
   "metadata": {},
   "outputs": [],
   "source": [
    "my_crawling_browser.quit()"
   ]
  }
 ],
 "metadata": {
  "interpreter": {
   "hash": "a7e19d3a7c8beef6405aeac15629fad99ac37bc7bfb83558b2748c74194f869e"
  },
  "kernelspec": {
   "display_name": "Python 3.9.12 ('venv_crawling': venv)",
   "language": "python",
   "name": "python3"
  },
  "language_info": {
   "codemirror_mode": {
    "name": "ipython",
    "version": 3
   },
   "file_extension": ".py",
   "mimetype": "text/x-python",
   "name": "python",
   "nbconvert_exporter": "python",
   "pygments_lexer": "ipython3",
   "version": "3.9.12"
  },
  "orig_nbformat": 4
 },
 "nbformat": 4,
 "nbformat_minor": 2
}
