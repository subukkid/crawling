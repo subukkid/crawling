{
 "cells": [
  {
   "cell_type": "code",
   "execution_count": 30,
   "metadata": {},
   "outputs": [],
   "source": [
    "from selenium import webdriver\n",
    "from selenium.webdriver.chrome.service import Service\n",
    "from selenium.webdriver.common.by import By\n",
    "from selenium.webdriver.support.select import Select\n",
    "from selenium.webdriver.support.ui import WebDriverWait   #웹을 기다려주는 기능\n",
    "from selenium.webdriver.support import expected_conditions as ec\n",
    "from webdriver_manager.chrome import ChromeDriverManager"
   ]
  },
  {
   "cell_type": "code",
   "execution_count": 31,
   "metadata": {},
   "outputs": [],
   "source": [
    "URL = \"https://quotes.toscrape.com/login\""
   ]
  },
  {
   "cell_type": "code",
   "execution_count": 32,
   "metadata": {},
   "outputs": [
    {
     "name": "stderr",
     "output_type": "stream",
     "text": [
      "\n",
      "\n",
      "====== WebDriver manager ======\n",
      "Current google-chrome version is 101.0.4951\n",
      "Get LATEST chromedriver version for 101.0.4951 google-chrome\n",
      "Driver [C:\\Users\\SKILLSUPPORT\\.wdm\\drivers\\chromedriver\\win32\\101.0.4951.41\\chromedriver.exe] found in cache\n"
     ]
    }
   ],
   "source": [
    "chrome_options = webdriver.ChromeOptions()\n",
    "my_crawling_browser = webdriver.Chrome(service=Service(ChromeDriverManager().install()), options=chrome_options)\n",
    "my_crawling_browser.get(url=URL)"
   ]
  },
  {
   "cell_type": "code",
   "execution_count": 33,
   "metadata": {},
   "outputs": [
    {
     "data": {
      "text/plain": [
       "<selenium.webdriver.remote.webelement.WebElement (session=\"85de14daae26a6e9ef2de6e2f3c132d9\", element=\"797c7eba-59a7-42ec-b002-ee55aceb4d36\")>"
      ]
     },
     "execution_count": 33,
     "metadata": {},
     "output_type": "execute_result"
    }
   ],
   "source": [
    "#ID가 username가 보일때까지 기다려라\n",
    "WebDriverWait(my_crawling_browser, 10).until(ec.presence_of_element_located((By.ID,\"username\")))"
   ]
  },
  {
   "cell_type": "code",
   "execution_count": 34,
   "metadata": {},
   "outputs": [],
   "source": [
    "# admin을 입력한다.\n",
    "login = my_crawling_browser.find_element(by=By.XPATH, value = \"//input[@id='username']\").send_keys(\"admin\")\n",
    "\n",
    "#password를 입력한다.\n",
    "password = my_crawling_browser.find_element(by=By.XPATH, value = \"//input[@id='password']\").send_keys(\"admin\")\n",
    "\n",
    "#login을 클릭한다.\n",
    "login_btn = my_crawling_browser.find_element(by=By.XPATH, value = \"//input[@value='Login']\").click()"
   ]
  }
 ],
 "metadata": {
  "interpreter": {
   "hash": "a7e19d3a7c8beef6405aeac15629fad99ac37bc7bfb83558b2748c74194f869e"
  },
  "kernelspec": {
   "display_name": "Python 3.9.12 ('venv_crawling': venv)",
   "language": "python",
   "name": "python3"
  },
  "language_info": {
   "codemirror_mode": {
    "name": "ipython",
    "version": 3
   },
   "file_extension": ".py",
   "mimetype": "text/x-python",
   "name": "python",
   "nbconvert_exporter": "python",
   "pygments_lexer": "ipython3",
   "version": "3.9.12"
  },
  "orig_nbformat": 4
 },
 "nbformat": 4,
 "nbformat_minor": 2
}
