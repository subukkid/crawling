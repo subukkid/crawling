{
 "cells": [
  {
   "cell_type": "code",
   "execution_count": 2,
   "metadata": {},
   "outputs": [],
   "source": [
    "#www.gemirawn.io / id: dbuser / password : skillsupport!@#\n"
   ]
  },
  {
   "cell_type": "code",
   "execution_count": 3,
   "metadata": {},
   "outputs": [
    {
     "name": "stdout",
     "output_type": "stream",
     "text": [
      "Requirement already satisfied: paramiko in .\\venv_crawling\\lib\\site-packages (2.11.0)\n",
      "Requirement already satisfied: pynacl>=1.0.1 in .\\venv_crawling\\lib\\site-packages (from paramiko) (1.5.0)\n",
      "Requirement already satisfied: six in .\\venv_crawling\\lib\\site-packages (from paramiko) (1.16.0)\n",
      "Requirement already satisfied: bcrypt>=3.1.3 in .\\venv_crawling\\lib\\site-packages (from paramiko) (3.2.2)\n",
      "Requirement already satisfied: cryptography>=2.5 in .\\venv_crawling\\lib\\site-packages (from paramiko) (37.0.2)\n",
      "Requirement already satisfied: cffi>=1.1 in .\\venv_crawling\\lib\\site-packages (from bcrypt>=3.1.3->paramiko) (1.15.0)\n",
      "Requirement already satisfied: pycparser in .\\venv_crawling\\lib\\site-packages (from cffi>=1.1->bcrypt>=3.1.3->paramiko) (2.21)\n"
     ]
    }
   ],
   "source": [
    "!pip install paramiko"
   ]
  },
  {
   "cell_type": "code",
   "execution_count": 4,
   "metadata": {},
   "outputs": [],
   "source": [
    "import paramiko"
   ]
  },
  {
   "cell_type": "code",
   "execution_count": 15,
   "metadata": {},
   "outputs": [
    {
     "name": "stdout",
     "output_type": "stream",
     "text": [
      "연결되었습니다.\n",
      "total 3100\n",
      "\n",
      "drwxr-x--- 3 dbuser dbuser   4096 May 20 04:18 .\n",
      "\n",
      "drwxr-xr-x 4 root   root     4096 May 19 16:09 ..\n",
      "\n",
      "-rw------- 1 dbuser dbuser    120 May 19 16:38 .bash_history\n",
      "\n",
      "-rw-r--r-- 1 dbuser dbuser    220 May 19 16:09 .bash_logout\n",
      "\n",
      "-rw-r--r-- 1 dbuser dbuser   3771 May 19 16:09 .bashrc\n",
      "\n",
      "drwx------ 2 dbuser dbuser   4096 May 19 16:33 .cache\n",
      "\n",
      "-rw-rw-r-- 1 dbuser dbuser 431860 May 20 04:19 check_mayonnaise.png\n",
      "\n",
      "-rw-rw-r-- 1 dbuser dbuser  41510 May 20 04:18 HMM_noname.xlsx\n",
      "\n",
      "-rw-rw-r-- 1 dbuser dbuser  99867 May 20 04:19 lee_test.png\n",
      "\n",
      "-rw-rw-r-- 1 dbuser dbuser 201805 May 20 04:18 김주연.png\n",
      "\n",
      "-rw-r--r-- 1 dbuser dbuser    807 May 19 16:09 .profile\n",
      "\n",
      "-rw-rw-r-- 1 dbuser dbuser  97600 May 20 04:19 satoyama_test.png\n",
      "\n",
      "-rw-rw-r-- 1 dbuser dbuser  97522 May 20 04:17 shpark_naver.png\n",
      "\n",
      "-rw-rw-r-- 1 dbuser dbuser      0 May 19 16:34 skillsuppoerdemo1.txt\n",
      "\n",
      "-rw-rw-r-- 1 dbuser dbuser      0 May 19 16:34 skillsuppoerdemo2.txt\n",
      "\n",
      "-rw-rw-r-- 1 dbuser dbuser      0 May 19 16:34 skillsuppoerdemo3.txt\n",
      "\n",
      "-rw-rw-r-- 1 dbuser dbuser 464263 May 20 04:18 test_1234.png\n",
      "\n",
      "-rw-rw-r-- 1 dbuser dbuser 226042 May 20 04:19 윤석일_test.png\n",
      "\n",
      "-rw-rw-r-- 1 dbuser dbuser 340062 May 20 04:18 이애영_test.png\n",
      "\n",
      "-rw-rw-r-- 1 dbuser dbuser 232322 May 20 04:18 김영하_test.png\n",
      "\n",
      "-rw-rw-r-- 1 dbuser dbuser 388246 May 20 04:18 김봉재_test.png\n",
      "\n",
      "-rw-rw-r-- 1 dbuser dbuser 124992 May 20 04:17 최찬호_test.png\n",
      "\n",
      "-rw-rw-r-- 1 dbuser dbuser 212135 May 20 04:19 김성권_test.png\n",
      "\n",
      "-rw-rw-r-- 1 dbuser dbuser  97356 May 20 04:19 test_test.png\n",
      "\n",
      "-rw-rw-r-- 1 dbuser dbuser  60462 May 19 16:37 uploadtest01.png\n",
      "\n",
      "total 3100\n",
      "\n",
      "drwxr-x--- 3 dbuser dbuser   4096 May 20 04:18 .\n",
      "\n",
      "drwxr-xr-x 4 root   root     4096 May 19 16:09 ..\n",
      "\n",
      "-rw------- 1 dbuser dbuser    120 May 19 16:38 .bash_history\n",
      "\n",
      "-rw-r--r-- 1 dbuser dbuser    220 May 19 16:09 .bash_logout\n",
      "\n",
      "-rw-r--r-- 1 dbuser dbuser   3771 May 19 16:09 .bashrc\n",
      "\n",
      "drwx------ 2 dbuser dbuser   4096 May 19 16:33 .cache\n",
      "\n",
      "-rw-rw-r-- 1 dbuser dbuser 431860 May 20 04:19 check_mayonnaise.png\n",
      "\n",
      "-rw-rw-r-- 1 dbuser dbuser  41510 May 20 04:18 HMM_noname.xlsx\n",
      "\n",
      "-rw-rw-r-- 1 dbuser dbuser  99867 May 20 04:19 lee_test.png\n",
      "\n",
      "-rw-rw-r-- 1 dbuser dbuser 201805 May 20 04:18 김주연.png\n",
      "\n",
      "-rw-r--r-- 1 dbuser dbuser    807 May 19 16:09 .profile\n",
      "\n",
      "-rw-rw-r-- 1 dbuser dbuser  97600 May 20 04:19 satoyama_test.png\n",
      "\n",
      "-rw-rw-r-- 1 dbuser dbuser  97522 May 20 04:20 shpark_naver.png\n",
      "\n",
      "-rw-rw-r-- 1 dbuser dbuser      0 May 19 16:34 skillsuppoerdemo1.txt\n",
      "\n",
      "-rw-rw-r-- 1 dbuser dbuser      0 May 19 16:34 skillsuppoerdemo2.txt\n",
      "\n",
      "-rw-rw-r-- 1 dbuser dbuser      0 May 19 16:34 skillsuppoerdemo3.txt\n",
      "\n",
      "-rw-rw-r-- 1 dbuser dbuser 464263 May 20 04:18 test_1234.png\n",
      "\n",
      "-rw-rw-r-- 1 dbuser dbuser 226042 May 20 04:19 윤석일_test.png\n",
      "\n",
      "-rw-rw-r-- 1 dbuser dbuser 340062 May 20 04:18 이애영_test.png\n",
      "\n",
      "-rw-rw-r-- 1 dbuser dbuser 232322 May 20 04:18 김영하_test.png\n",
      "\n",
      "-rw-rw-r-- 1 dbuser dbuser 388246 May 20 04:18 김봉재_test.png\n",
      "\n",
      "-rw-rw-r-- 1 dbuser dbuser 124992 May 20 04:17 최찬호_test.png\n",
      "\n",
      "-rw-rw-r-- 1 dbuser dbuser 212135 May 20 04:19 김성권_test.png\n",
      "\n",
      "-rw-rw-r-- 1 dbuser dbuser  97356 May 20 04:19 test_test.png\n",
      "\n",
      "-rw-rw-r-- 1 dbuser dbuser  60462 May 19 16:37 uploadtest01.png\n",
      "\n"
     ]
    }
   ],
   "source": [
    "try:\n",
    "    ssh = paramiko.SSHClient()\n",
    "    ssh.set_missing_host_key_policy(paramiko.AutoAddPolicy)\n",
    "    ssh.connect(\"www.gemirawn.io\", username=\"dbuser\", password=\"skillsupport!@#\")\n",
    "    print(\"연결되었습니다.\")\n",
    "    stdin, stdout, stderr = ssh.exec_command(\"ls -al\")\n",
    "    lines = stdout.readlines()\n",
    "    for i in lines:\n",
    "        print(i)\n",
    "\n",
    "    sftp = ssh.open_sftp()\n",
    "    sftp.put(\"check_naver.png\", \"shpark_naver.png\")\n",
    "    \n",
    "\n",
    "    stdin, stdout, stderr = ssh.exec_command(\"ls -al\")\n",
    "    lines = stdout.readlines()\n",
    "    for i in lines:\n",
    "        print(i)\n",
    "    \n",
    "    sftp.get(\"shpark_naver.png\", \"from_naver.png\")\n",
    "    ssh.close()\n",
    "\n",
    "except Exception as err:\n",
    "    #print(f\"error code:\"{err})\n",
    "    print(err)\n"
   ]
  },
  {
   "cell_type": "code",
   "execution_count": 7,
   "metadata": {},
   "outputs": [
    {
     "name": "stdout",
     "output_type": "stream",
     "text": [
      "연결되었습니다.\n"
     ]
    }
   ],
   "source": []
  },
  {
   "cell_type": "code",
   "execution_count": null,
   "metadata": {},
   "outputs": [],
   "source": []
  }
 ],
 "metadata": {
  "interpreter": {
   "hash": "a7e19d3a7c8beef6405aeac15629fad99ac37bc7bfb83558b2748c74194f869e"
  },
  "kernelspec": {
   "display_name": "Python 3.9.12 ('venv_crawling': venv)",
   "language": "python",
   "name": "python3"
  },
  "language_info": {
   "codemirror_mode": {
    "name": "ipython",
    "version": 3
   },
   "file_extension": ".py",
   "mimetype": "text/x-python",
   "name": "python",
   "nbconvert_exporter": "python",
   "pygments_lexer": "ipython3",
   "version": "3.9.12"
  },
  "orig_nbformat": 4
 },
 "nbformat": 4,
 "nbformat_minor": 2
}
