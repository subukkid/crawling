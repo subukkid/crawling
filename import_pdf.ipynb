{
 "cells": [
  {
   "cell_type": "code",
   "execution_count": 1,
   "metadata": {},
   "outputs": [],
   "source": [
    "import pdfplumber"
   ]
  },
  {
   "cell_type": "code",
   "execution_count": 9,
   "metadata": {},
   "outputs": [
    {
     "name": "stdout",
     "output_type": "stream",
     "text": [
      "<Page:141>\n",
      "데이비드토이 \n",
      "02) 2062-5255\n",
      "펫살롱 바다조개/구름하우스/\n",
      "펫살롱 타투샵 펫살롱 해피 샤워트럭\n",
      "방갈로 세트\n",
      "··새롭게·선보이는·펫살롱·신규·가방세트·3종! ··칠하고·지우는·펫살롱·시즌2! ··칠하고·지우는·펫살롱·시즌2!\n",
      "··그동안·보지·못했던·펫들·6종과!·방갈로세트에 ··더욱·화려하게·돌아온·펫·친구들과·스탬프마 ··더욱·화려하게·돌아온·펫·친구들과·해피·샤워\n",
      "는·3개의·향기마카가·들어있어요!· 커로·꾹꾹·눌러서·펫들을·꾸며주면·누구나·손 트럭으로·다양하게·놀아보아요~!·물펌프를·눌\n",
      "··바다를·느낄·수·있는·바다개·세트!·신기한·동물 러서·펫들에게·물을·쏘면·깨끗하게·지워져요\n",
      "쉽고·귀여운·나만의·펫·완성!·3가지의·다양한·\n",
      "을·만날·수·있는·구름하우스! ~!·새로워진·펫살롱·해피샤워트럭을·즐겨보아\n",
      "무늬로·펫들을·꾸며주세요!\n",
      "··친근한·동물들을·만날·수·있는·방갈로·세트까 요!\n",
      "··제조회사·:·데이비드토이·\n",
      "지! ··제조회사·:·데이비드토이·\n",
      "··소비자가(원)·:·42,000원\n",
      "··제조사·:·데이비드토이· ··소비자가(원)·:·50,000원\n",
      "··제품크기·:·16×13×12cm\n",
      "··소비자가(원)·:·35,000원·\n",
      "··제품크기·:·33×24×14.2cm\n",
      "··제품크기·:·12×15.2×15.5cm ··입수수량(개)·:·6개\n",
      "··입수수량(개)·:·3개\n",
      "··입수수량(개)·:·6개·\n",
      "월드컬러 색연필 24색 월드컬러 마카 24색 월드컬러 크레용 24색\n",
      "··170가지·상상력의·힘!·크레욜라의·월드컬러·색연 ··170가지·상상력의·힘!·크레욜라의·월드컬러·마카· ··170가지·상상력의·힘!·크레욜라의·월드컬러·크레\n",
      "필·출시! 출시! 용·출시!\n",
      "··아이들이·문화의·다양성을·배우고,·세계인에·대해· ··아이들이·문화의·다양성을·배우고,·세계인에·대해· ··아이들이·문화의·다양성을·배우고,·세계인에·대해·\n",
      "자연스럽게·인식할·수·있도록·24가지·피부색·색 자연스럽게·인식할·수·있도록·24가지·피부색·마 자연스럽게·인식할·수·있도록·24가지·피부색·크\n",
      "연필·“크레욜라·월드컬러”를·선물하세요! 카·“크레욜라·월드컬러”를·선물하세요! 레용·“크레욜라·월드컬러”를·선물하세요!\n",
      "··제조회사·:·데이비드토이· ··제조사·:·데이비드토이 ··제조사·:·데이비드토이\n",
      "··소비자가(원)·:·16,000원 ··소비자가(원)·:·19,000원 ··소비자가(원)·:·5,000원\n",
      "··제품크기·:·0.65×3.5×8.2 ··제품크기·:·1.4×7.6×5.6 ··제품크기·:·2.8×4.5×1.06\n",
      "··입수수량(개)·:·36개 ··입수수량(개)·:·12개 ··입수수량(개)·:·48개\n",
      "신제품 9\n",
      "[토이매거진]5월 신제품-최종.indd   9 2021-04-26   오후 7:16:37\n",
      "[]\n"
     ]
    },
    {
     "ename": "TypeError",
     "evalue": "crop() takes from 2 to 3 positional arguments but 5 were given",
     "output_type": "error",
     "traceback": [
      "\u001b[1;31m---------------------------------------------------------------------------\u001b[0m",
      "\u001b[1;31mTypeError\u001b[0m                                 Traceback (most recent call last)",
      "\u001b[1;32mc:\\data\\crawling\\import_pdf.ipynb Cell 2'\u001b[0m in \u001b[0;36m<cell line: 1>\u001b[1;34m()\u001b[0m\n\u001b[0;32m      <a href='vscode-notebook-cell:/c%3A/data/crawling/import_pdf.ipynb#ch0000001?line=5'>6</a>\u001b[0m \u001b[39mprint\u001b[39m(pdf\u001b[39m.\u001b[39mpages[\u001b[39m140\u001b[39m]\u001b[39m.\u001b[39mextract_text())\n\u001b[0;32m      <a href='vscode-notebook-cell:/c%3A/data/crawling/import_pdf.ipynb#ch0000001?line=7'>8</a>\u001b[0m \u001b[39mprint\u001b[39m(pdf\u001b[39m.\u001b[39mpages[\u001b[39m192\u001b[39m]\u001b[39m.\u001b[39mextract_tables())\n\u001b[1;32m---> <a href='vscode-notebook-cell:/c%3A/data/crawling/import_pdf.ipynb#ch0000001?line=9'>10</a>\u001b[0m \u001b[39mprint\u001b[39m(pdf\u001b[39m.\u001b[39;49mpages[\u001b[39m131\u001b[39;49m]\u001b[39m.\u001b[39;49mcrop(\u001b[39m100\u001b[39;49m, \u001b[39m300\u001b[39;49m, \u001b[39m500\u001b[39;49m, \u001b[39m800\u001b[39;49m))\n",
      "\u001b[1;31mTypeError\u001b[0m: crop() takes from 2 to 3 positional arguments but 5 were given"
     ]
    }
   ],
   "source": [
    "with pdfplumber.open(\"[토이매거진]5월호.pdf\") as pdf:\n",
    "    #print(len(pdf.pages))\n",
    "    #for page in pdf.pages:\n",
    "    #    print(page)\n",
    "    print(pdf.pages[140])\n",
    "    print(pdf.pages[140].extract_text())\n",
    "\n",
    "    print(pdf.pages[192].extract_tables())\n",
    "\n"
   ]
  },
  {
   "cell_type": "code",
   "execution_count": 11,
   "metadata": {},
   "outputs": [
    {
     "name": "stdout",
     "output_type": "stream",
     "text": [
      "Collecting easyocr\n",
      "  Downloading easyocr-1.4.2-py3-none-any.whl (70.8 MB)\n",
      "     -------------------------------------- 70.8/70.8 MB 683.5 kB/s eta 0:00:00\n",
      "Collecting torchvision>=0.5\n",
      "  Downloading torchvision-0.12.0-cp39-cp39-win_amd64.whl (1.0 MB)\n",
      "     ---------------------------------------- 1.0/1.0 MB 870.9 kB/s eta 0:00:00\n",
      "Requirement already satisfied: numpy in .\\venv_crawling\\lib\\site-packages (from easyocr) (1.22.3)\n",
      "Requirement already satisfied: Pillow in .\\venv_crawling\\lib\\site-packages (from easyocr) (9.1.1)\n",
      "Requirement already satisfied: PyYAML in .\\venv_crawling\\lib\\site-packages (from easyocr) (6.0)\n",
      "Requirement already satisfied: scipy in .\\venv_crawling\\lib\\site-packages (from easyocr) (1.8.1)\n",
      "Collecting scikit-image\n",
      "  Downloading scikit_image-0.19.2-cp39-cp39-win_amd64.whl (12.6 MB)\n",
      "     -------------------------------------- 12.6/12.6 MB 847.6 kB/s eta 0:00:00\n",
      "Collecting torch\n",
      "  Downloading torch-1.11.0-cp39-cp39-win_amd64.whl (157.9 MB)\n",
      "     -------------------------------------- 157.9/157.9 MB 5.4 MB/s eta 0:00:00\n",
      "Collecting opencv-python-headless<=4.5.4.60\n",
      "  Downloading opencv_python_headless-4.5.4.60-cp39-cp39-win_amd64.whl (35.0 MB)\n",
      "     ---------------------------------------- 35.0/35.0 MB 8.3 MB/s eta 0:00:00\n",
      "Collecting python-bidi\n",
      "  Downloading python_bidi-0.4.2-py2.py3-none-any.whl (30 kB)\n",
      "Requirement already satisfied: typing-extensions in .\\venv_crawling\\lib\\site-packages (from torchvision>=0.5->easyocr) (4.2.0)\n",
      "Requirement already satisfied: requests in .\\venv_crawling\\lib\\site-packages (from torchvision>=0.5->easyocr) (2.27.1)\n",
      "Requirement already satisfied: six in .\\venv_crawling\\lib\\site-packages (from python-bidi->easyocr) (1.16.0)\n",
      "Requirement already satisfied: networkx>=2.2 in .\\venv_crawling\\lib\\site-packages (from scikit-image->easyocr) (2.8.1)\n",
      "Collecting tifffile>=2019.7.26\n",
      "  Downloading tifffile-2022.5.4-py3-none-any.whl (195 kB)\n",
      "     -------------------------------------- 195.6/195.6 kB 5.8 MB/s eta 0:00:00\n",
      "Requirement already satisfied: packaging>=20.0 in .\\venv_crawling\\lib\\site-packages (from scikit-image->easyocr) (21.3)\n",
      "Collecting PyWavelets>=1.1.1\n",
      "  Using cached PyWavelets-1.3.0-cp39-cp39-win_amd64.whl (4.2 MB)\n",
      "Collecting imageio>=2.4.1\n",
      "  Downloading imageio-2.19.2-py3-none-any.whl (3.4 MB)\n",
      "     ---------------------------------------- 3.4/3.4 MB 8.9 MB/s eta 0:00:00\n",
      "Requirement already satisfied: pyparsing!=3.0.5,>=2.0.2 in .\\venv_crawling\\lib\\site-packages (from packaging>=20.0->scikit-image->easyocr) (3.0.9)\n",
      "Requirement already satisfied: charset-normalizer~=2.0.0 in .\\venv_crawling\\lib\\site-packages (from requests->torchvision>=0.5->easyocr) (2.0.12)\n",
      "Requirement already satisfied: certifi>=2017.4.17 in .\\venv_crawling\\lib\\site-packages (from requests->torchvision>=0.5->easyocr) (2022.5.18)\n",
      "Requirement already satisfied: urllib3<1.27,>=1.21.1 in .\\venv_crawling\\lib\\site-packages (from requests->torchvision>=0.5->easyocr) (1.26.9)\n",
      "Requirement already satisfied: idna<4,>=2.5 in .\\venv_crawling\\lib\\site-packages (from requests->torchvision>=0.5->easyocr) (3.3)\n",
      "Installing collected packages: torch, tifffile, PyWavelets, python-bidi, opencv-python-headless, imageio, torchvision, scikit-image, easyocr\n",
      "Successfully installed PyWavelets-1.3.0 easyocr-1.4.2 imageio-2.19.2 opencv-python-headless-4.5.4.60 python-bidi-0.4.2 scikit-image-0.19.2 tifffile-2022.5.4 torch-1.11.0 torchvision-0.12.0\n"
     ]
    }
   ],
   "source": [
    "!pip install easyocr"
   ]
  },
  {
   "cell_type": "code",
   "execution_count": 13,
   "metadata": {},
   "outputs": [
    {
     "name": "stderr",
     "output_type": "stream",
     "text": [
      "CUDA not available - defaulting to CPU. Note: This module is much faster with a GPU.\n"
     ]
    },
    {
     "name": "stdout",
     "output_type": "stream",
     "text": [
      "[([[31, 17], [127, 17], [127, 33], [31, 33]], 'NAVER whale', 0.9479118924565291), ([[456, 14], [821, 14], [821, 38], [456, 38]], '미간 펴고 사용하세요 인상 쓰지 말고 다크 모드', 0.6302304586055005), ([[875, 17], [915, 17], [915, 33], [875, 33]], '다운로-다', 0.11898824033778989), ([[83, 107], [247, 107], [247, 149], [83, 149]], 'NAVER', 0.9998415309117982), ([[56, 224], [92, 224], [92, 248], [56, 248]], '메일', 0.9493428196544995), ([[99, 227], [133, 227], [133, 245], [99, 245]], '카페', 0.9996641061425527), ([[141, 225], [189, 225], [189, 245], [141, 245]], '불로그', 0.9700104816362497), ([[196, 224], [348, 224], [348, 248], [196, 248]], '지식iN   쇼핑   쇼핑LE', 0.10418574181419672), ([[356, 224], [552, 224], [552, 248], [356, 248]], 'Pay DTV 사전   뉴스   증권', 0.5672269985205342), ([[559, 223], [610, 223], [610, 249], [559, 249]], '부동산', 0.9998009592634782), ([[617, 225], [649, 225], [649, 245], [617, 245]], '지도', 0.9999268338549803), ([[659, 229], [695, 229], [695, 245], [659, 245]], 'VIBE', 0.9999371767044067), ([[726, 224], [762, 224], [762, 248], [726, 248]], '웬문', 0.1091426948555449), ([[777, 229], [817, 229], [817, 243], [777, 243]], '드보기', 0.3882429552332488), ([[831, 299], [915, 299], [915, 317], [831, 317]], '네이터클 더 안', 0.26659279938552427), ([[847, 389], [885, 389], [885, 405], [847, 405]], '아이디', 0.7729873473128829), ([[45, 443], [99, 443], [99, 463], [45, 463]], '연합뉴스', 0.9975907206535339), ([[115, 443], [419, 443], [419, 463], [115, 463]], '타이든 오늘 방한  너일 주대통결고- 첫 한디정상회담', 0.2021913087653365), ([[565, 445], [607, 445], [607, 463], [565, 463]], '뉴스롬', 0.1629790560822697), ([[623, 447], [651, 447], [651, 463], [623, 463]], '연예', 0.999706164817854), ([[659, 445], [699, 445], [699, 461], [659, 461]], '스포츠', 0.9996076360508247), ([[705, 445], [763, 445], [763, 463], [705, 463]], '지방선거', 0.9997044205665588), ([[873, 447], [913, 447], [913, 461], [873, 461]], '코르다', 0.6002556449188761), ([[57, 499], [129, 499], [129, 519], [57, 519]], '뉴스스템드', 0.3169560808731001), ([[147, 499], [241, 499], [241, 519], [147, 519]], '구득하 언론사', 0.3653543459114611), ([[255, 499], [331, 499], [331, 519], [255, 519]], '전체언론사', 0.9221821104291206), ([[51, 561], [139, 561], [139, 577], [51, 577]], 'Thc Joonging', 0.6210826785486897), ([[185, 563], [249, 563], [249, 577], [185, 577]], 'ChosunlBiz', 0.8469343400989994), ([[323, 561], [365, 561], [365, 577], [323, 577]], 'OSBS', 0.7270368337631226), ([[451, 561], [503, 561], [503, 577], [451, 577]], '동아일보', 0.4835965633392334), ([[567, 561], [619, 561], [619, 575], [567, 575]], 'OSEN', 0.2523043155670166), ([[702, 558], [751, 558], [751, 578], [702, 578]], '문화일보', 0.7575574517250061), ([[65, 625], [121, 625], [121, 645], [65, 645]], '데일리안', 0.990514874458313), ([[195, 625], [243, 625], [243, 639], [195, 639]], '매일경제', 0.8402953743934631), ([[321, 625], [351, 625], [351, 641], [321, 641]], 'KBS', 0.8068535923957825), ([[447, 625], [489, 625], [489, 641], [447, 641]], '한거래', 0.05708100342448807), ([[567, 623], [615, 623], [615, 641], [567, 641]], '한국얼보', 0.7445803880691528), ([[681, 623], [751, 623], [751, 643], [681, 643]], 'NEutsis', 0.2895146893970701), ([[71, 689], [117, 689], [117, 707], [71, 707]], '프레시안', 0.9896535873413086), ([[189, 689], [245, 689], [245, 707], [189, 707]], '경향신문', 0.591716920943877), ([[331, 691], [375, 691], [375, 703], [331, 703]], 'NetKorea', 0.6858756081268582), ([[431, 689], [507, 689], [507, 707], [431, 707]], '스포츠투데이', 0.6950571841740287), ([[557, 691], [629, 691], [629, 705], [557, 705]], 'nouneus', 0.9975865337563008), ([[689, 691], [745, 691], [745, 707], [689, 707]], '아주경제', 0.9899898767471313), ([[51, 757], [139, 757], [139, 771], [51, 771]], 'RBS 안국능어존방송', 0.29607056040608204), ([[188, 752], [250, 752], [250, 776], [188, 776]], '초이스경제', 0.7876568438247644), ([[317, 753], [369, 753], [369, 773], [317, 773]], \"'INVEN\", 0.39609372822519445), ([[449, 757], [503, 757], [503, 771], [449, 771]], '렌스조선', 0.5282312631607056), ([[685, 755], [749, 755], [749, 771], [685, 771]], '뉴스토마토', 0.962893354271067), ([[733, 815], [819, 815], [819, 831], [733, 831]], '다크 고드로 보기', 0.43519346503252543), ([[31, 829], [313, 829], [313, 849], [31, 849]], '오늘 읽지만한 글  주제별로 분류된 다양한 글 도음', 0.19039755331155994), ([[609, 831], [675, 831], [675, 849], [609, 849]], '709 개의 글', 0.591182458912475), ([[563.4647122724278, 746.0729641807401], [625.9962237398457, 763.8771554621634], [619.5352877275722, 785.9270358192599], [557.0037762601543, 768.1228445378366]], 'gisnssgtor', 0.08627194562680121)]\n"
     ]
    }
   ],
   "source": [
    "import easyocr\n",
    "reader = easyocr.Reader(['ko','en']) # this needs to run only once to load the model into memory\n",
    "result = reader.readtext('check_naver.png')\n",
    "print(result)"
   ]
  }
 ],
 "metadata": {
  "interpreter": {
   "hash": "a7e19d3a7c8beef6405aeac15629fad99ac37bc7bfb83558b2748c74194f869e"
  },
  "kernelspec": {
   "display_name": "Python 3.9.12 ('venv_crawling': venv)",
   "language": "python",
   "name": "python3"
  },
  "language_info": {
   "codemirror_mode": {
    "name": "ipython",
    "version": 3
   },
   "file_extension": ".py",
   "mimetype": "text/x-python",
   "name": "python",
   "nbconvert_exporter": "python",
   "pygments_lexer": "ipython3",
   "version": "3.9.12"
  },
  "orig_nbformat": 4
 },
 "nbformat": 4,
 "nbformat_minor": 2
}
